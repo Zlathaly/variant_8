{
 "cells": [
  {
   "cell_type": "markdown",
   "id": "73cb828f",
   "metadata": {},
   "source": [
    "# Задача\n",
    "Провести серию экспериментов, тестирующую команды scipy.linalg.solve, numpy.linalg.cond на плохо обусловленных матрицах вида $A=LU$, где $L$, $U$ – случайные нижняя треугольная и верхняя треугольная матрицы соответственно с малыми диагональными элементами.\n",
    "\n",
    "Экспериментальным путем для каждого из перечисленных классов установить диапазон изменения порядка матрицы, при котором число обусловленности не превосходит величины порядка $10^{16}$. Построить графики значений, выдаваемых функцией scipy.linalg.cond. Построить графики используемого этими функциями времени. Для каждой матрицы задать случайно решение $x$. По матрице $A$ и решению $x$ сгенерировать правую часть системы линейных уравнений $b$. Решить систему $Ax=b$, используя scipy.linalg.solve. Построить графики относительной ошибки решения и невязки. Объяснить результаты."
   ]
  },
  {
   "cell_type": "markdown",
   "id": "6f196cfc",
   "metadata": {},
   "source": [
    "Для начала импортируем нужные нам библиотеки"
   ]
  },
  {
   "cell_type": "code",
   "execution_count": 11,
   "id": "f522212c",
   "metadata": {},
   "outputs": [],
   "source": [
    "import scipy\n",
    "import scipy.linalg\n",
    "import numpy\n",
    "import matplotlib.pyplot as plt\n",
    "import time\n",
    "%matplotlib inline"
   ]
  },
  {
   "cell_type": "markdown",
   "id": "0447794d",
   "metadata": {},
   "source": [
    "Определим вспомогательные функции и классы"
   ]
  },
  {
   "cell_type": "code",
   "execution_count": 12,
   "id": "b24662d4",
   "metadata": {},
   "outputs": [],
   "source": [
  "\n",
     
     
     "def TimeEstimator(functor, *args):\n",
 "launch_time = time.time()\n",
	 "result = functor(*args)\n",
	 "stop = time.time()\n",
	 "return result, stop - launch_time\n",
    
    "\n",
     
     
      "class MatrixGenerator:\n",
 "	def __generate_random_matrix(size_of_matrix):\n",
	 "	return numpy.random.normal(size=(size_of_matrix, size_of_matrix))\n",
 "	def __multiply_diagonal(matrix, coef):\n",
	 "	row_len = matrix.shape[1]\n",
	 "	column_len = matrix.shape[0]\n",
	 "	for i in range(column_len):\n",
	 "		if(i == row_len):\n",
	 "			break\n",
	 "		matrix[i][i] *= coef\n",
	 "	return matrix\n",
 "	def Generate_Matrix(size_of_matrix, coef):\n",
	 "	L_matrix = MatrixGenerator.__generate_random_matrix(size_of_matrix)\n",
	 "	L_matrix = numpy.tril(L_matrix) # lower triangular matrix\n",
	 "	L_matrix = MatrixGenerator.__multiply_diagonal(L_matrix, coef)\n",
	 "	U_matrix = MatrixGenerator.__generate_random_matrix(size_of_matrix)\n",
	 "	U_matrix = numpy.triu(U_matrix) # upper triangular matrix\n",
	 "	U_matrix = MatrixGenerator.__multiply_diagonal(U_matrix, coef)\n",
	 "	A_matrix = numpy.matmul(L_matrix, U_matrix)\n",
	 "	return A_matrix\n",
     
     
     
   
   ]
  },
  {
   "cell_type": "markdown",
   "id": "b2e90534",
   "metadata": {},
   "source": [
    "Создадим несколько контейнеров, содержимое которых мы позже отрендерим."
   ]
  },
  {
   "cell_type": "code",
   "execution_count": 26,
   "id": "eeb2bd25",
   "metadata": {},
   "outputs": [],
   "source": [
     
    " size = [] # array of matrix sizes\n",
    "cond = [] # array of numbers is conditional\n",
    "Solve_time_array = [] # array of computation time of the SLAE solution\n",
    "norm_r_array = [] # array of residual instrument norms\n",
    "relative_error_array = [] # array of relative solution errors "
   ]
  },
  {
   "cell_type": "markdown",
   "id": "4afce252",
   "metadata": {},
   "source": [
     "В цикле изменения размера сгенерированной матрицы для каждой матрицы мы находим номер условия и устанавливаем решение $x$. Используя матрицу $A$ и решение $x$, мы генерируем правую часть система линейных уравнений $b$. Решаем систему $Ax = b$, используя scipy.linalg.solve. \ n ",
    "\n",
   ]
  },
  {
   "cell_type": "code",
   "execution_count": 27,
   "id": "f119b4e2",
   "metadata": {},
   "outputs": [],
   "source": [
     "for size_of_matrix in range(1, 32):\n",
	"A_matrix = MatrixGenerator.Generate_Matrix(size_of_matrix, 0.2) # random illconditioned matrix\n",
"A_cond, cond_time = TimeEstimator(numpy.linalg.cond, A_matrix) # condition number and time of its calculation\n",
"if (A_cond > 1e16):\n",
	"	continue\n",
	"x_generated = numpy.random.rand(size_of_matrix, 1) # a randomly given solution for the matrix A_matrix\n",
	"b = numpy.matmul(A_matrix, x_generated) \n",
"x_calculated, solve_time = TimeEstimator(scipy.linalg.solve, A_matrix, b)\n",
	"r = numpy.matmul(A_matrix, x_calculated) - b \n",
	"norm_r = numpy.linalg.norm(r) \n",
	"relative_error = numpy.linalg.norm(x_calculated) / numpy.linalg.norm(x_generated) # relative error of the computed solution\n",
	"size.append(size_of_matrix)\n",
	"cond.append(A_cond)\n",
	"cond_time_array.append(cond_time)\n",
	"solve_time_array.append(solve_time)\n",
	"norm_r_array.append(norm_r)\n",
	"relative_error_array.append(relative_error)\n",
   ]
  },
 
  
  {
   "cell_type": "markdown",
   "id": "d427c739",
   "metadata": {},
   "source": [
"# Вывод \ n",
     "По мере увеличения порядка матрицы число обусловленности растет. Это связано с тем, что разброс при генерации случайных чисел остается прежним - в результате при увеличении порядка матрицы увеличивается количество строк, которые практически совпадают с линейными комбинациями существующих строк. В результате число обусловленности увеличивается. \ n ",
    "\ n",
    "Поскольку, согласно постановке задачи, считается, что учитывается диапазон изменения порядка матрицы, на котором число обусловленности не превышает 10 ^ 16, оказывается, что учитывается только очень небольшой диапазон изменения порядка матрицы. Поэтому оценить время работы функции numpy.linalg.cond вообще не удалось, а вот по графику времени работы функции scipy.linalg.solve о чем-то судить сложно. эти функции зависят от порядка матрицы. \ n ",
    "\ n",
     "Относительная ошибка решения растет с ростом числа обусловленности, потому что решение СЛАУ при больших числах обусловленности дает менее точное решение (со временем ошибки в расчетах накапливаются. При больших числах обусловленности даже небольшая ошибка может приводят к большому изменению решения). \ n "]
  }
 ],
 "metadata": {
  "kernelspec": {
   "display_name": "Python 3",
   "language": "python",
   "name": "python3"
  },
  "language_info": {
   "codemirror_mode": {
    "name": "ipython",
    "version": 3
   },
   "file_extension": ".py",
   "mimetype": "text/x-python",
   "name": "python",
   "nbconvert_exporter": "python",
   "pygments_lexer": "ipython3",
   "version": "3.8.8"
  }
 },
 "nbformat": 4,
 "nbformat_minor": 5
}
